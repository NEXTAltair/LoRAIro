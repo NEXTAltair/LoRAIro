{
 "cells": [
  {
   "cell_type": "markdown",
   "id": "a3c42dd3",
   "metadata": {},
   "source": [
    "# データセットのアップロードを確認するやつ\n",
    "Dataset Viewer使えば要らない\n",
    "データセットリポジトリからランダムに取り出して情報を表示する"
   ]
  },
  {
   "cell_type": "code",
   "execution_count": null,
   "metadata": {},
   "outputs": [],
   "source": [
    "import random\n",
    "from PIL import Image\n",
    "from datasets import load_dataset\n",
    "\n",
    "# データセットをロード\n",
    "dataset_dict = load_dataset(\"username/name\")\n",
    "train_dataset = dataset_dict['train']\n",
    "\n",
    "# ランダムにレコードを取り出す\n",
    "def show_random_record(dataset):\n",
    "    index = random.randint(0, len(dataset) - 1)\n",
    "    record = dataset[index]\n",
    "    \n",
    "    # 画像を表示\n",
    "    image = record['image']\n",
    "    if isinstance(image, str):\n",
    "        image = Image.open(image)\n",
    "    image.show()\n",
    "\n",
    "    # その他の内容を表示\n",
    "    print(f\"Record {index}:\")\n",
    "    print(f\"File Name: {record['file_name']}\")\n",
    "    print(f\"Tags: {record['tags']}\")\n",
    "    print(f\"Caption: {record['caption']}\")\n",
    "    print(f\"Width: {record['width']}\")\n",
    "    print(f\"Height: {record['height']}\")\n",
    "    print(f\"Pixels: {record['pixels']}\")\n",
    "    print(f\"LAION Aesthetic: {record['LAION_aesthetic']}\")\n",
    "    print(f\"Cafe Aesthetic: {record['cafe_aesthetic']}\")\n",
    "\n",
    "# ランダムなレコードを表示\n",
    "show_random_record(train_dataset)"
   ]
  }
 ],
 "metadata": {
  "kernelspec": {
   "display_name": "Python 3",
   "language": "python",
   "name": "python3"
  },
  "language_info": {
   "codemirror_mode": {
    "name": "ipython",
    "version": 3
   },
   "file_extension": ".py",
   "mimetype": "text/x-python",
   "name": "python",
   "nbconvert_exporter": "python",
   "pygments_lexer": "ipython3",
   "version": "3.11.9"
  }
 },
 "nbformat": 4,
 "nbformat_minor": 5
}
